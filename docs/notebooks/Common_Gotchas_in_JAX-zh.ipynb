{
 "cells": [
  {
   "cell_type": "markdown",
   "metadata": {
    "id": "hjM_sV_AepYf"
   },
   "source": [
    "# 🔪 JAX - The Sharp Bits 🔪\n",
    "\n",
    "[![Open in Colab](https://colab.research.google.com/assets/colab-badge.svg)](https://colab.research.google.com/github/google/jax/blob/main/docs/notebooks/Common_Gotchas_in_JAX.ipynb)"
   ]
  },
  {
   "cell_type": "markdown",
   "metadata": {
    "id": "4k5PVzEo2uJO"
   },
   "source": [
    "*levskaya@ mattjj@*\n",
    "\n",
    "当你漫步在意大利的田园乡间，当地人会告诉你 __JAX__ 的含义是 _\"una anima di pura programmazione funzionale（纯函数编程之魂）\"_。\n",
    "\n",
    "__JAX__ 是一门对数值程序进行各种__转换（transform）__的语言。 __JAX__ 也可以对数值程序进行编译，在CPU、GPU或TPU上执行。并不是所有的函数都支持JAX，下面我们会一一讲到。"
   ]
  },
  {
   "cell_type": "code",
   "execution_count": 2,
   "metadata": {
    "id": "GoK_PCxPeYcy"
   },
   "outputs": [],
   "source": [
    "import numpy as np\n",
    "from jax import grad, jit\n",
    "from jax import lax\n",
    "from jax import random\n",
    "import jax\n",
    "import jax.numpy as jnp\n",
    "import matplotlib as mpl\n",
    "from matplotlib import pyplot as plt\n",
    "from matplotlib import rcParams\n",
    "rcParams['image.interpolation'] = 'nearest'\n",
    "rcParams['image.cmap'] = 'viridis'\n",
    "rcParams['axes.grid'] = False"
   ]
  },
  {
   "cell_type": "markdown",
   "metadata": {
    "id": "gX8CZU1g2agP"
   },
   "source": [
    "## 🔪 纯函数（Pure functions）"
   ]
  },
  {
   "cell_type": "markdown",
   "metadata": {
    "id": "2oHigBkW2dPT"
   },
   "source": [
    "JAX 转换和编译只可以用于纯函数：\n",
    "* 输入相同，纯函数的输出肯定相同\n",
    "* 纯函数不会**读写（read && write）**函数外部的状态，比如不修改全局变量的值和伪随机数状态\n",
    "\n",
    "下面是几个非纯函数的例子，此时JAX的执行结果会和Python解释器有所不同，JAX不保证结果的正确性。总之，JAX应该只作用于纯函数。"
   ]
  },
  {
   "cell_type": "code",
   "execution_count": 3,
   "metadata": {
    "colab": {
     "base_uri": "https://localhost:8080/"
    },
    "id": "A6R-pdcm4u3v",
    "outputId": "25dcb191-14d4-4620-bcb2-00492d2f24e1"
   },
   "outputs": [
    {
     "name": "stdout",
     "output_type": "stream",
     "text": [
      "Executing function\n",
      "First call:  4.0\n",
      "Second call:  5.0\n",
      "Executing function\n",
      "Third call, different type:  [5.]\n"
     ]
    }
   ],
   "source": [
    "def impure_print_side_effect(x):\n",
    "  print(\"Executing function\")  # print语句🙅🏻‍，因为有副作用（side-effect）\n",
    "  return x\n",
    "\n",
    "# 函数第一次执行时，有副作用\n",
    "print (\"First call: \", jit(impure_print_side_effect)(4.))\n",
    "\n",
    "# 接下来执行函数，只要传参的type和shape相同，则没有副作用，\n",
    "# 因为JAX此时调用的是缓存的函数编译结果\n",
    "print (\"Second call: \", jit(impure_print_side_effect)(5.))\n",
    "\n",
    "# 如果传参的type或shape发生变化，JAX会对该函数重新编译执行\n",
    "print (\"Third call, different type: \", jit(impure_print_side_effect)(jnp.array([5.])))"
   ]
  },
  {
   "cell_type": "code",
   "execution_count": 4,
   "metadata": {
    "colab": {
     "base_uri": "https://localhost:8080/"
    },
    "id": "-N8GhitI2bhD",
    "outputId": "fd3624c9-197d-42cb-d97f-c5e0ef885467"
   },
   "outputs": [
    {
     "name": "stdout",
     "output_type": "stream",
     "text": [
      "First call:  4.0\n",
      "Second call:  5.0\n",
      "Third call, different type:  [14.]\n"
     ]
    }
   ],
   "source": [
    "g = 0.\n",
    "def impure_uses_globals(x):\n",
    "  return x + g  # 函数的结果受到全局变量影响，相同的传参不能保证相同的返回结果\n",
    "\n",
    "# JAX在函数第一次执行时记录了全局变的值\n",
    "print (\"First call: \", jit(impure_uses_globals)(4.))\n",
    "g = 10.  # 更新g的值\n",
    "\n",
    "# 接下来调用函数，使用的是缓存的g值（0）\n",
    "print (\"Second call: \", jit(impure_uses_globals)(5.))\n",
    "\n",
    "# 当传参的type或shape发生变化，JAX重新编译函数，\n",
    "# 此时使用最新的g值\n",
    "print (\"Third call, different type: \", jit(impure_uses_globals)(jnp.array([4.])))"
   ]
  },
  {
   "cell_type": "code",
   "execution_count": 5,
   "metadata": {
    "colab": {
     "base_uri": "https://localhost:8080/"
    },
    "id": "RTB6iFgu4DL6",
    "outputId": "16697bcd-3623-49b1-aabb-c54614aeadea"
   },
   "outputs": [
    {
     "name": "stdout",
     "output_type": "stream",
     "text": [
      "First call:  4.0\n",
      "Saved global:  Traced<ShapedArray(float32[], weak_type=True)>with<DynamicJaxprTrace(level=0/1)>\n"
     ]
    }
   ],
   "source": [
    "g = 0.\n",
    "def impure_saves_global(x):\n",
    "  global g\n",
    "  g = x\n",
    "  return x\n",
    "\n",
    "# JAX runs once the transformed function with special Traced values for arguments\n",
    "print (\"First call: \", jit(impure_saves_global)(4.))\n",
    "print (\"Saved global: \", g)  # Saved global has an internal JAX value"
   ]
  },
  {
   "cell_type": "markdown",
   "metadata": {
    "id": "Mlc2pQlp6v-9"
   },
   "source": [
    "如果函数内部有状态变量，只要它不对外部状态进行读写就没事，也属于纯函数:"
   ]
  },
  {
   "cell_type": "code",
   "execution_count": 6,
   "metadata": {
    "colab": {
     "base_uri": "https://localhost:8080/"
    },
    "id": "TP-Mqf_862C0",
    "outputId": "78d55886-54de-483c-e7c4-bafd1d2c7219"
   },
   "outputs": [
    {
     "name": "stdout",
     "output_type": "stream",
     "text": [
      "50.0\n"
     ]
    }
   ],
   "source": [
    "def pure_uses_internal_state(x):\n",
    "  state = dict(even=0, odd=0)\n",
    "  for i in range(10):\n",
    "    state['even' if i % 2 == 0 else 'odd'] += x\n",
    "  return state['even'] + state['odd']\n",
    "\n",
    "print(jit(pure_uses_internal_state)(5.))"
   ]
  },
  {
   "cell_type": "markdown",
   "metadata": {
    "id": "cDpQ5u63Ba_H"
   },
   "source": [
    "不推荐想用`jit`编译或任何控制流原语的函数内部使用迭代器（iterator）。 原因是迭代器是一个Python对象，会引入状态。下面的例子大部分会出错，少部分不出错的结果也不可信。"
   ]
  },
  {
   "cell_type": "code",
   "execution_count": 7,
   "metadata": {
    "colab": {
     "base_uri": "https://localhost:8080/"
    },
    "id": "w99WXa6bBa_H",
    "outputId": "52d885fd-0239-4a08-f5ce-0c38cc008903"
   },
   "outputs": [
    {
     "name": "stdout",
     "output_type": "stream",
     "text": [
      "45\n",
      "0\n"
     ]
    }
   ],
   "source": [
    "import jax.numpy as jnp\n",
    "import jax.lax as lax\n",
    "from jax import make_jaxpr\n",
    "\n",
    "# lax.fori_loop\n",
    "array = jnp.arange(10)\n",
    "print(lax.fori_loop(0, 10, lambda i,x: x+array[i], 0)) # expected result 45\n",
    "iterator = iter(range(10))\n",
    "print(lax.fori_loop(0, 10, lambda i,x: x+next(iterator), 0)) # unexpected result 0\n",
    "\n",
    "# lax.scan\n",
    "def func11(arr, extra):\n",
    "    ones = jnp.ones(arr.shape)  \n",
    "    def body(carry, aelems):\n",
    "        ae1, ae2 = aelems\n",
    "        return (carry + ae1 * ae2 + extra, carry)\n",
    "    return lax.scan(body, 0., (arr, ones))    \n",
    "make_jaxpr(func11)(jnp.arange(16), 5.)\n",
    "# make_jaxpr(func11)(iter(range(16)), 5.) # throws error\n",
    "\n",
    "# lax.cond\n",
    "array_operand = jnp.array([0.])\n",
    "lax.cond(True, lambda x: x+1, lambda x: x-1, array_operand)\n",
    "iter_operand = iter(range(10))\n",
    "# lax.cond(True, lambda x: next(x)+1, lambda x: next(x)-1, iter_operand) # throws error"
   ]
  },
  {
   "cell_type": "markdown",
   "metadata": {
    "id": "oBdKtkVW8Lha"
   },
   "source": [
    "## 🔪 原地更新（In-Place Updates）"
   ]
  },
  {
   "cell_type": "markdown",
   "metadata": {
    "id": "JffAqnEW4JEb"
   },
   "source": [
    "在Numpy中，你可以这么做:"
   ]
  },
  {
   "cell_type": "code",
   "execution_count": 8,
   "metadata": {
    "colab": {
     "base_uri": "https://localhost:8080/"
    },
    "id": "om4xV7_84N9j",
    "outputId": "88b0074a-4440-41f6-caa7-031ac2d1a96f"
   },
   "outputs": [
    {
     "name": "stdout",
     "output_type": "stream",
     "text": [
      "original array:\n",
      "[[0. 0. 0.]\n",
      " [0. 0. 0.]\n",
      " [0. 0. 0.]]\n",
      "updated array:\n",
      "[[0. 0. 0.]\n",
      " [1. 1. 1.]\n",
      " [0. 0. 0.]]\n"
     ]
    }
   ],
   "source": [
    "numpy_array = np.zeros((3,3), dtype=np.float32)\n",
    "print(\"original array:\")\n",
    "print(numpy_array)\n",
    "\n",
    "# 原地修改数组的值\n",
    "numpy_array[1, :] = 1.0\n",
    "print(\"updated array:\")\n",
    "print(numpy_array)"
   ]
  },
  {
   "cell_type": "markdown",
   "metadata": {
    "id": "go3L4x3w4-9p"
   },
   "source": [
    "如果我们对JAX数组进行原地更新，报错 (☉_☉)"
   ]
  },
  {
   "cell_type": "code",
   "execution_count": 9,
   "metadata": {
    "colab": {
     "base_uri": "https://localhost:8080/"
    },
    "id": "2AxeCufq4wAp",
    "outputId": "fa4a87ad-1a84-471a-a3c5-a1396c432c85",
    "tags": [
     "raises-exception"
    ]
   },
   "outputs": [
    {
     "name": "stdout",
     "output_type": "stream",
     "text": [
      "Exception '<class 'jaxlib.xla_extension.DeviceArray'>' object does not support item assignment. JAX arrays are immutable. Instead of ``x[idx] = y``, use ``x = x.at[idx].set(y)`` or another .at[] method: https://jax.readthedocs.io/en/latest/_autosummary/jax.numpy.ndarray.at.html\n"
     ]
    }
   ],
   "source": [
    "jax_array = jnp.zeros((3,3), dtype=jnp.float32)\n",
    "\n",
    "# In place update of JAX's array will yield an error!\n",
    "try:\n",
    "  jax_array[1, :] = 1.0\n",
    "except Exception as e:\n",
    "  print(\"Exception {}\".format(e))"
   ]
  },
  {
   "cell_type": "markdown",
   "metadata": {
    "id": "7mo76sS25Wco"
   },
   "source": [
    "如果允许变量原地修改值，会使得程序分析和转换非常困难，JAX要求函数是纯函数，同时，JAX提供了一种更新数组的方式，当然不是原地修改，而是返回一个更新后的数组， [`.at` property on JAX arrays](https://jax.readthedocs.io/en/latest/_autosummary/jax.numpy.ndarray.at.html#jax.numpy.ndarray.at)."
   ]
  },
  {
   "cell_type": "markdown",
   "metadata": {
    "id": "hfloZ1QXCS_J"
   },
   "source": [
    "️⚠️ inside `jit`'d code and `lax.while_loop` or `lax.fori_loop` the __size__ of slices can't be functions of argument _values_ but only functions of argument _shapes_ -- the slice start indices have no such restriction.  See the below __Control Flow__ Section for more information on this limitation."
   ]
  },
  {
   "cell_type": "markdown",
   "metadata": {
    "id": "X2Xjjvd-l8NL"
   },
   "source": [
    "### 数组更新： `x.at[idx].set(y)`"
   ]
  },
  {
   "cell_type": "code",
   "execution_count": 10,
   "metadata": {
    "colab": {
     "base_uri": "https://localhost:8080/"
    },
    "id": "PBGI-HIeCP_s",
    "outputId": "de13f19a-2066-4df1-d503-764c34585529"
   },
   "outputs": [
    {
     "name": "stdout",
     "output_type": "stream",
     "text": [
      "updated array:\n",
      " [[0. 0. 0.]\n",
      " [1. 1. 1.]\n",
      " [0. 0. 0.]]\n"
     ]
    }
   ],
   "source": [
    "updated_array = jax_array.at[1, :].set(1.0)\n",
    "print(\"updated array:\\n\", updated_array)"
   ]
  },
  {
   "cell_type": "markdown",
   "metadata": {
    "id": "zUANAw9sCmgu"
   },
   "source": [
    "上面的操作返回的是一个新数组，原数组并没有改变。"
   ]
  },
  {
   "cell_type": "code",
   "execution_count": 11,
   "metadata": {
    "colab": {
     "base_uri": "https://localhost:8080/"
    },
    "id": "dbB0UmMhCe8f",
    "outputId": "55d46fa1-d0de-4c43-996c-f3bbc87b7175"
   },
   "outputs": [
    {
     "name": "stdout",
     "output_type": "stream",
     "text": [
      "original array unchanged:\n",
      " [[0. 0. 0.]\n",
      " [0. 0. 0.]\n",
      " [0. 0. 0.]]\n"
     ]
    }
   ],
   "source": [
    "print(\"original array unchanged:\\n\", jax_array)"
   ]
  },
  {
   "cell_type": "markdown",
   "metadata": {
    "id": "eM6MyndXL2NY"
   },
   "source": [
    "不过，在jit编译过的代码内部，如果`x.at[idx].set(y)` 中的输入`x`不会再被使用，编译器会将数组更新操作优化为原地（in-place）进行。"
   ]
  },
  {
   "cell_type": "markdown",
   "metadata": {
    "id": "7to-sF8EmC_y"
   },
   "source": [
    "### 数组更新时的计算操作"
   ]
  },
  {
   "cell_type": "markdown",
   "metadata": {
    "id": "ZY5l3tAdDmsJ"
   },
   "source": [
    "使用`at[index]`对数组进行更新时，除了赋值操作，还支持计算，比如下面的例子，对原值加7:"
   ]
  },
  {
   "cell_type": "code",
   "execution_count": 12,
   "metadata": {
    "colab": {
     "base_uri": "https://localhost:8080/"
    },
    "id": "tsw2svao8FUp",
    "outputId": "3c62a3b1-c12d-46f0-da74-791ec4b61e0b"
   },
   "outputs": [
    {
     "name": "stdout",
     "output_type": "stream",
     "text": [
      "original array:\n",
      "[[1. 1. 1. 1. 1. 1.]\n",
      " [1. 1. 1. 1. 1. 1.]\n",
      " [1. 1. 1. 1. 1. 1.]\n",
      " [1. 1. 1. 1. 1. 1.]\n",
      " [1. 1. 1. 1. 1. 1.]]\n",
      "new array post-addition:\n",
      "[[1. 1. 1. 8. 8. 8.]\n",
      " [1. 1. 1. 1. 1. 1.]\n",
      " [1. 1. 1. 8. 8. 8.]\n",
      " [1. 1. 1. 1. 1. 1.]\n",
      " [1. 1. 1. 8. 8. 8.]]\n"
     ]
    }
   ],
   "source": [
    "print(\"original array:\")\n",
    "jax_array = jnp.ones((5, 6))\n",
    "print(jax_array)\n",
    "\n",
    "new_jax_array = jax_array.at[::2, 3:].add(7.)  # add()\n",
    "print(\"new array post-addition:\")\n",
    "print(new_jax_array)"
   ]
  },
  {
   "cell_type": "markdown",
   "metadata": {
    "id": "sTjJ3WuaDyqU"
   },
   "source": [
    "更多操作，可以参考 [documentation for the `.at` property](https://jax.readthedocs.io/en/latest/_autosummary/jax.numpy.ndarray.at.html#jax.numpy.ndarray.at)."
   ]
  },
  {
   "cell_type": "markdown",
   "metadata": {
    "id": "oZ_jE2WAypdL"
   },
   "source": [
    "## 🔪 索引越界"
   ]
  },
  {
   "cell_type": "markdown",
   "metadata": {
    "id": "btRFwEVzypdN"
   },
   "source": [
    "在Numpy中，如果索引越界，会报错："
   ]
  },
  {
   "cell_type": "code",
   "execution_count": 13,
   "metadata": {
    "colab": {
     "base_uri": "https://localhost:8080/"
    },
    "id": "5_ZM-BJUypdO",
    "outputId": "c9c41ae8-2653-4219-e6dc-09b03faa3b95",
    "tags": [
     "raises-exception"
    ]
   },
   "outputs": [
    {
     "name": "stdout",
     "output_type": "stream",
     "text": [
      "Exception index 11 is out of bounds for axis 0 with size 10\n"
     ]
    }
   ],
   "source": [
    "try:\n",
    "  np.arange(10)[11]\n",
    "except Exception as e:\n",
    "  print(\"Exception {}\".format(e))"
   ]
  },
  {
   "cell_type": "markdown",
   "metadata": {
    "id": "eoXrGARWypdR"
   },
   "source": [
    "但是，在加速卡上执行代码时抛出一个越界错误比较困难，甚至难以实现。因此，JAX 对于数组索引越界并不报错，看下面的例子，当检索数组值的下标越界，返回的是数组最后一个元素:"
   ]
  },
  {
   "cell_type": "code",
   "execution_count": 14,
   "metadata": {
    "colab": {
     "base_uri": "https://localhost:8080/"
    },
    "id": "cusaAD0NypdR",
    "outputId": "af1708aa-b50b-4da8-f022-7f2fa67030a8"
   },
   "outputs": [
    {
     "data": {
      "text/plain": [
       "DeviceArray(9, dtype=int32)"
      ]
     },
     "execution_count": 14,
     "metadata": {},
     "output_type": "execute_result"
    }
   ],
   "source": [
    "jnp.arange(10)[11]"
   ]
  },
  {
   "cell_type": "markdown",
   "metadata": {
    "id": "J8uO8yevBa_M"
   },
   "source": [
    "虽然索引越界不报错，但是此时的结果是无法保证正确的，小心处理。"
   ]
  },
  {
   "cell_type": "markdown",
   "metadata": {
    "id": "LwB07Kx5sgHu"
   },
   "source": [
    "## 🔪 非数组作为输入: NumPy vs. JAX\n",
    "\n",
    "NumPy支持Python list或tuple作为输入:"
   ]
  },
  {
   "cell_type": "code",
   "execution_count": 15,
   "metadata": {
    "colab": {
     "base_uri": "https://localhost:8080/"
    },
    "id": "sErQES14sjCG",
    "outputId": "601485ff-4cda-48c5-f76c-2789073c4591"
   },
   "outputs": [
    {
     "data": {
      "text/plain": [
       "6"
      ]
     },
     "execution_count": 15,
     "metadata": {},
     "output_type": "execute_result"
    }
   ],
   "source": [
    "np.sum([1, 2, 3])"
   ]
  },
  {
   "cell_type": "markdown",
   "metadata": {
    "id": "ZJ1Wt1bTtrSA"
   },
   "source": [
    "JAX则会报错:"
   ]
  },
  {
   "cell_type": "code",
   "execution_count": 16,
   "metadata": {
    "colab": {
     "base_uri": "https://localhost:8080/"
    },
    "id": "DFEGcENSsmEc",
    "outputId": "08535679-6c1f-4dd9-a414-d8b59310d1ee"
   },
   "outputs": [
    {
     "name": "stdout",
     "output_type": "stream",
     "text": [
      "TypeError: sum requires ndarray or scalar arguments, got <class 'list'> at position 0.\n"
     ]
    }
   ],
   "source": [
    "try:\n",
    "  jnp.sum([1, 2, 3])\n",
    "except TypeError as e:\n",
    "  print(f\"TypeError: {e}\")"
   ]
  },
  {
   "cell_type": "markdown",
   "metadata": {
    "id": "QPliLUZztxJt"
   },
   "source": [
    "JAX故意这么设计的，因为在JIT编译场景中无法trace，list和tuple没有shape和dtype。\n",
    "\n",
    "看下面的例子，将x转为JAX array，来支持输入是list:"
   ]
  },
  {
   "cell_type": "code",
   "execution_count": 17,
   "metadata": {
    "colab": {
     "base_uri": "https://localhost:8080/"
    },
    "id": "jhe-L_TwsvKd",
    "outputId": "ab2ee183-d9ec-45cc-d6be-5009347e1bc5"
   },
   "outputs": [
    {
     "data": {
      "text/plain": [
       "DeviceArray(45, dtype=int32)"
      ]
     },
     "execution_count": 17,
     "metadata": {},
     "output_type": "execute_result"
    }
   ],
   "source": [
    "def permissive_sum(x):\n",
    "  return jnp.sum(jnp.array(x))\n",
    "\n",
    "x = list(range(10))\n",
    "permissive_sum(x)"
   ]
  },
  {
   "cell_type": "markdown",
   "metadata": {
    "id": "m0XZLP7nuYdE"
   },
   "source": [
    "结果没问题，但是要小心，这样做会降低性能，因为在JAX的tracing和JIT编译模型逻辑中，Python list或tuple中的每个元素都被看做一个单独的JAX变量，分别进行处理和传输到device，而不是作为一个JAX 变量来处理，可以看下jaxpr就明白了:"
   ]
  },
  {
   "cell_type": "code",
   "execution_count": 22,
   "metadata": {
    "colab": {
     "base_uri": "https://localhost:8080/"
    },
    "id": "k81u6DQ7vAjQ",
    "outputId": "869fc3b9-feda-4aa9-d2e5-5b5107de102d"
   },
   "outputs": [
    {
     "data": {
      "text/plain": [
       "{ \u001b[34m\u001b[22m\u001b[1mlambda \u001b[39m\u001b[22m\u001b[22m; a\u001b[35m:i32[]\u001b[39m b\u001b[35m:i32[]\u001b[39m c\u001b[35m:i32[]\u001b[39m d\u001b[35m:i32[]\u001b[39m e\u001b[35m:i32[]\u001b[39m f\u001b[35m:i32[]\u001b[39m g\u001b[35m:i32[]\u001b[39m h\u001b[35m:i32[]\u001b[39m i\u001b[35m:i32[]\u001b[39m\n",
       "    j\u001b[35m:i32[]\u001b[39m. \u001b[34m\u001b[22m\u001b[1mlet\n",
       "    \u001b[39m\u001b[22m\u001b[22mk\u001b[35m:i32[]\u001b[39m = convert_element_type[new_dtype=int32 weak_type=False] a\n",
       "    l\u001b[35m:i32[]\u001b[39m = convert_element_type[new_dtype=int32 weak_type=False] b\n",
       "    m\u001b[35m:i32[]\u001b[39m = convert_element_type[new_dtype=int32 weak_type=False] c\n",
       "    n\u001b[35m:i32[]\u001b[39m = convert_element_type[new_dtype=int32 weak_type=False] d\n",
       "    o\u001b[35m:i32[]\u001b[39m = convert_element_type[new_dtype=int32 weak_type=False] e\n",
       "    p\u001b[35m:i32[]\u001b[39m = convert_element_type[new_dtype=int32 weak_type=False] f\n",
       "    q\u001b[35m:i32[]\u001b[39m = convert_element_type[new_dtype=int32 weak_type=False] g\n",
       "    r\u001b[35m:i32[]\u001b[39m = convert_element_type[new_dtype=int32 weak_type=False] h\n",
       "    s\u001b[35m:i32[]\u001b[39m = convert_element_type[new_dtype=int32 weak_type=False] i\n",
       "    t\u001b[35m:i32[]\u001b[39m = convert_element_type[new_dtype=int32 weak_type=False] j\n",
       "    u\u001b[35m:i32[1]\u001b[39m = broadcast_in_dim[broadcast_dimensions=() shape=(1,)] k\n",
       "    v\u001b[35m:i32[1]\u001b[39m = broadcast_in_dim[broadcast_dimensions=() shape=(1,)] l\n",
       "    w\u001b[35m:i32[1]\u001b[39m = broadcast_in_dim[broadcast_dimensions=() shape=(1,)] m\n",
       "    x\u001b[35m:i32[1]\u001b[39m = broadcast_in_dim[broadcast_dimensions=() shape=(1,)] n\n",
       "    y\u001b[35m:i32[1]\u001b[39m = broadcast_in_dim[broadcast_dimensions=() shape=(1,)] o\n",
       "    z\u001b[35m:i32[1]\u001b[39m = broadcast_in_dim[broadcast_dimensions=() shape=(1,)] p\n",
       "    ba\u001b[35m:i32[1]\u001b[39m = broadcast_in_dim[broadcast_dimensions=() shape=(1,)] q\n",
       "    bb\u001b[35m:i32[1]\u001b[39m = broadcast_in_dim[broadcast_dimensions=() shape=(1,)] r\n",
       "    bc\u001b[35m:i32[1]\u001b[39m = broadcast_in_dim[broadcast_dimensions=() shape=(1,)] s\n",
       "    bd\u001b[35m:i32[1]\u001b[39m = broadcast_in_dim[broadcast_dimensions=() shape=(1,)] t\n",
       "    be\u001b[35m:i32[10]\u001b[39m = concatenate[dimension=0] u v w x y z ba bb bc bd\n",
       "    bf\u001b[35m:i32[]\u001b[39m = reduce_sum[axes=(0,)] be\n",
       "  \u001b[34m\u001b[22m\u001b[1min \u001b[39m\u001b[22m\u001b[22m(bf,) }"
      ]
     },
     "execution_count": 22,
     "metadata": {},
     "output_type": "execute_result"
    }
   ],
   "source": [
    "make_jaxpr(permissive_sum)(x)"
   ]
  },
  {
   "cell_type": "markdown",
   "metadata": {
    "id": "C0_dpCfpvCts"
   },
   "source": [
    "可以看到，list中每个元素都被单独当做一个JAX变量，进行tracing和编译，这使得JAX变量数量随着list增加而线性增加，是不是有点出乎意料？JAX并不会隐式的将Python list或tuple转为数组来提高性能，希望你能加深理解避免这样做。\n",
    "\n",
    "所以，还是你自己手动将Python list或tuple转为JAX数组吧："
   ]
  },
  {
   "cell_type": "code",
   "execution_count": 23,
   "metadata": {
    "colab": {
     "base_uri": "https://localhost:8080/"
    },
    "id": "nFf_DydixG8v",
    "outputId": "e31b43b3-05f7-4300-fdd2-40e3896f6f8f"
   },
   "outputs": [
    {
     "data": {
      "text/plain": [
       "DeviceArray(45, dtype=int32)"
      ]
     },
     "execution_count": 23,
     "metadata": {},
     "output_type": "execute_result"
    }
   ],
   "source": [
    "jnp.sum(jnp.array(x))"
   ]
  },
  {
   "cell_type": "markdown",
   "metadata": {
    "id": "MUycRNh6e50W"
   },
   "source": [
    "## 🔪 随机数"
   ]
  },
  {
   "cell_type": "markdown",
   "metadata": {
    "id": "O8vvaVt3MRG2"
   },
   "source": [
    "> _如果我们把图书馆中那些因为随机数`rand()`使用不当而导致结果受质疑的论文都拿走，好吧，书架上会估计会空一大半。_ - Numerical Recipes"
   ]
  },
  {
   "cell_type": "markdown",
   "metadata": {
    "id": "Qikt9pPW9L5K"
   },
   "source": [
    "### 随机数生成器（RNGs）和状态（State）\n",
    "\n",
    "在numpy或者其他库中，你已经习惯于使用有状态的伪随机数生成器（PRNGs），背后的细节你根本不需要关心:"
   ]
  },
  {
   "cell_type": "code",
   "execution_count": 24,
   "metadata": {
    "colab": {
     "base_uri": "https://localhost:8080/"
    },
    "id": "rr9FeP41fynt",
    "outputId": "df0ceb15-96ec-4a78-e327-c77f7ea3a745"
   },
   "outputs": [
    {
     "name": "stdout",
     "output_type": "stream",
     "text": [
      "0.3613510116453882\n",
      "0.5651344398181016\n",
      "0.019768584014015933\n"
     ]
    }
   ],
   "source": [
    "print(np.random.random())\n",
    "print(np.random.random())\n",
    "print(np.random.random())"
   ]
  },
  {
   "cell_type": "markdown",
   "metadata": {
    "id": "ORMVVGZJgSVi"
   },
   "source": [
    "numpy使用的伪随机数生成算法是 [Mersenne Twister](https://en.wikipedia.org/wiki/Mersenne_Twister)。背后有一个伪随机状态向量，"
   ]
  },
  {
   "cell_type": "code",
   "execution_count": 27,
   "metadata": {
    "id": "7Pyp2ajzfPO2"
   },
   "outputs": [],
   "source": [
    "np.random.seed(0)\n",
    "rng_state = np.random.get_state()\n",
    "#print(rng_state)\n",
    "# --> ('MT19937', array([0, 1, 1812433255, 1900727105, 1208447044,\n",
    "#       2481403966, 4042607538,  337614300, ... 614 more numbers..., \n",
    "#       3048484911, 1796872496], dtype=uint32), 624, 0, 0.0)"
   ]
  },
  {
   "cell_type": "code",
   "execution_count": 28,
   "metadata": {},
   "outputs": [
    {
     "name": "stdout",
     "output_type": "stream",
     "text": [
      "('MT19937', array([         0,          1, 1812433255, 1900727105, 1208447044,\n",
      "       2481403966, 4042607538,  337614300, 3232553940, 1018809052,\n",
      "       3202401494, 1775180719, 3192392114,  594215549,  184016991,\n",
      "        829906058,  610491522, 3879932251, 3139825610,  297902587,\n",
      "       4075895579, 2943625357, 3530655617, 1423771745, 2135928312,\n",
      "       2891506774, 1066338622,  135451537,  933040465, 2759011858,\n",
      "       2273819758, 3545703099, 2516396728, 1272276355, 3172048492,\n",
      "       3267256201, 2332199830, 1975469449,  392443598, 1132453229,\n",
      "       2900699076, 1998300999, 3847713992,  512669506, 1227792182,\n",
      "       1629110240,  112303347, 2142631694, 3647635483, 1715036585,\n",
      "       2508091258, 1355887243, 1884998310, 3906360088,  952450269,\n",
      "       3647883368, 3962623343, 3077504981, 2023096077, 3791588343,\n",
      "       3937487744, 3455116780, 1218485897, 1374508007, 2815569918,\n",
      "       1367263917,  472908318, 2263147545, 1461547499, 4126813079,\n",
      "       2383504810,   64750479, 2963140275, 1709368606, 4143643781,\n",
      "        835933993, 1881494649,  674663333, 2076403047,  858036109,\n",
      "       1667579889, 1706666497,  607785554, 1995775149, 1941986352,\n",
      "       3448871082, 2109910019, 1474883361, 1623095288, 1831376534,\n",
      "       2612738285,   81681830, 2204289242, 1365038485,  251164610,\n",
      "       4268495337, 1805601714, 1262528768, 1442526919, 1675006593,\n",
      "        965627108,  646339161,  499795587,  840887574,  380522518,\n",
      "       3023789847, 1457635507, 1947093157, 2600365344, 2729853143,\n",
      "       1550618999, 1390905853, 3021294812,  882647559,  838872117,\n",
      "       1663880796, 4222103589, 2754172275, 3844026123, 3199260319,\n",
      "       4176064873, 3591027019, 2690294242, 2978135515, 3172796441,\n",
      "       3263669796, 1451257057, 1427035359, 4174826006, 2171992010,\n",
      "       1537002090, 3122405306, 4162452508, 3271954368, 3794310005,\n",
      "       3240514581, 1270412086, 3030475836, 2281945856, 2644171349,\n",
      "       3109139423, 4253563838, 1289926431, 1396919653,  733220100,\n",
      "       2753316645, 1196225013, 3699575255, 3569440056, 2675979228,\n",
      "       2624079148, 3463113149,  863430286,  623703199, 2113837653,\n",
      "       2656425919,  175981357, 4271478366, 4238022735, 1665483419,\n",
      "         86880610, 2963435083, 1830392943,  847801865, 3237296945,\n",
      "        332143967, 3973606945, 2671879697, 2236330279, 2360127810,\n",
      "       3283955434,  203240344, 4048139172,   13189264, 2263058814,\n",
      "        247241371, 1566765783, 3084408095, 3719371299, 1958375251,\n",
      "       1985924622, 1712739232, 1861691451, 2644502937, 2337807839,\n",
      "        784993770, 2962208780, 2190810177, 1523122731,  714888527,\n",
      "        578678761, 3698481324, 1801168075,  534650483, 3390213921,\n",
      "       3923356461, 3586009066, 2059432114,   52511333, 1969897376,\n",
      "       3630122061,  524661135, 3513619765,  563070233,  501359785,\n",
      "        477489274,  658768624,  938973567, 1548584683, 1345287459,\n",
      "       2488691004, 3441144905, 3849305094, 2430000078,  855172178,\n",
      "        614463281, 2092744749,  176381493, 1655802051, 2273888101,\n",
      "       2474494847, 3471978030, 2138918303,  575352373, 1658230985,\n",
      "       1675972553, 2946663114,  915579339,  284981499,   53939948,\n",
      "       3022598146, 1861218535, 3403620774, 4203516930, 2360471119,\n",
      "       3134536268, 1383448498, 1307602316, 3847663247, 3027225131,\n",
      "       3597251613, 3186237127,  725127595, 1928526954, 1843386923,\n",
      "       3560410503,   54688266, 1791983849, 2519860352, 4256389699,\n",
      "       2328812602,  486464275, 3578698363,  301279829, 1303654791,\n",
      "       4181868765,  971794070, 1933885487, 3996807464, 2144053754,\n",
      "       4079903755, 3775774765, 3481760044, 1212862354, 1067356423,\n",
      "       3764189132, 1609862325, 2209601551, 2565747501,  161962392,\n",
      "       4045451782, 2605574664, 2520953090, 3490240017, 1082791980,\n",
      "         44474324,  101811128, 4268650669, 4171338684,  772375154,\n",
      "       3920460306, 2319139534,  599033750, 2950874441, 3373922995,\n",
      "       1496848525, 4095253594, 1271943484, 1498723121, 3097453329,\n",
      "       3698082465,  281869581, 3148270661, 3591477288,  747441437,\n",
      "       2809508504, 3896107498,  303747862, 2368081624, 1844217645,\n",
      "        886825352,  287949781, 1444561207, 2512101757, 2062331723,\n",
      "        741720931, 1383797313, 3876746355, 2041045348, 2627599118,\n",
      "       1124169970,  200524822, 3484820454,   55883666, 1135054804,\n",
      "        669498692, 2677215504, 3097911127, 1509628615,  617580381,\n",
      "       2229022193,   85601568, 3243896546, 3715672328,  912168347,\n",
      "       2359163500, 1180347564, 4243175048, 2092067103,  880183327,\n",
      "       4000664709, 2045044777, 3500474644, 1515175520, 1862207123,\n",
      "        186628841, 3337252925,  708933575, 4015964629, 3136815297,\n",
      "       3314919747, 2891909013, 3316567785, 3944275369, 3608506218,\n",
      "       2884839110, 3054055598, 2707439927, 1381111877, 3275487281,\n",
      "       4292456216, 2639563270, 3327301876, 3576924628,  721056309,\n",
      "       2002808140,  748967365,   52380958, 2200261692,  763456477,\n",
      "       1708381337, 2038446433, 2682979402, 1526413779, 2211263302,\n",
      "       3879771969,   75966584, 3645059271, 2985763524, 4085690255,\n",
      "         82390958, 1883631385, 1647521260, 1598026998, 3038041577,\n",
      "       2501913134, 3279302868, 1738888524,  805035483,  756399074,\n",
      "       3863810982, 1097797270, 1505792529,  898904527,  583561003,\n",
      "        717152376, 3333867738, 1099456544, 1663473545, 1242141229,\n",
      "       3828627682, 1966201676, 1713552361, 3852160017, 1584965284,\n",
      "         21695908, 1013262144,  145341901, 3995441263, 3462066219,\n",
      "       2239637848, 1214086163, 2428868268, 1650037305, 1545513388,\n",
      "       1621198806, 4232947817, 1823092073,  256414624, 1745018809,\n",
      "       1357102386, 2055139770, 3280958307, 2482431613, 1664870585,\n",
      "        859130423, 4097751123, 3079768369, 2470211009, 2984880786,\n",
      "       2808568948, 2877071923, 1984903163,  302768457, 1866396789,\n",
      "        869566317, 3746415787, 4169433075, 3025005404, 3980733379,\n",
      "       3539207278, 3953071536,  876960847, 2548872156,  800507464,\n",
      "       1865466907, 1273317878, 3754712872, 1757188269, 3229950355,\n",
      "       3731640200, 2283390608, 2204990292,  411873449,  447423849,\n",
      "       1852437802,  472825525, 3044219944, 2913114194, 1859709265,\n",
      "       4053786194,  574820536, 2104496732,  865469814, 2438352724,\n",
      "       4208743605, 4215067542, 1364015250, 4139974345, 3838747005,\n",
      "       1818502786, 2914274940, 1402365828, 1751123528, 2302578077,\n",
      "       2463168652, 1968705496, 1730700144, 3023943273, 1139096844,\n",
      "       2658667767, 2063547264,  705791165, 1444775274, 2415454225,\n",
      "       1575664730,  921044163,  648101324, 1212387162, 4191962054,\n",
      "       1787702169, 1888718041, 1518218010, 3398792842, 4079359729,\n",
      "        149721439,  750400353, 2661036076, 3802767886,  520152586,\n",
      "        951852508, 2939585975, 1375969109,  385733137, 3523607459,\n",
      "       1902438415, 4250996086, 2712727066,  484493674, 3932107461,\n",
      "       1428488210, 1764242548, 3424801055, 4004904451, 2226862072,\n",
      "       2393366939, 3609584727, 3614444319,  317349896, 3826527525,\n",
      "        204023804,  981902443, 3356042039, 3051207045, 1869902661,\n",
      "        561831895, 3706675415, 1527687593, 1227610446, 2596341042,\n",
      "       3191717368, 3269246891,  557877074, 4062070629, 3052520266,\n",
      "       3772487029,  400039836, 3195205275, 4085394797, 1655557239,\n",
      "       1345770144, 2864727192,  449281238,   73189507,  528365765,\n",
      "       2727400656,  247880434, 2408277395,  777039183, 2210179398,\n",
      "       1088433648, 2124356402, 1555630141,  604790219,  195012151,\n",
      "       3312518356,  923728373, 3999251660, 3313059535, 3478133921,\n",
      "       3395026960,  383464614, 3425869222, 2446885186, 4032184426,\n",
      "        157195416, 3158909476, 1663750443, 2046427584, 1658453076,\n",
      "       1784483001, 3146546889, 1238739785, 2297306523, 3472330897,\n",
      "       2953326031, 2421672215, 1221694592, 1588568605, 2546987845,\n",
      "       3375168573, 2137961649, 3056565164,  330165219,  235900365,\n",
      "       1000384800, 2697255904,  579122283, 3050664825,   73426122,\n",
      "       1232986102, 2940571064, 3076486824, 1708182873, 2796363264,\n",
      "        292154131, 4280019913, 1102652157, 1185393592, 1494991690,\n",
      "       4270076389, 2384840717,  425785147, 2385321880,  317514772,\n",
      "       3926962743,  392176856, 3465421709, 1878853468,  122662664,\n",
      "       2958252160, 1858961315, 2244939588, 2361884409, 2860936803,\n",
      "        683833250, 3291277128, 1686857206, 1112632275, 1200680507,\n",
      "       3342928196, 2677058150,  939442136, 3407104669, 2906783932,\n",
      "       3668048733, 2030009470, 1910839172, 1234925283, 3575831445,\n",
      "        123595418, 2362440495, 3048484911, 1796872496], dtype=uint32), 624, 0, 0.0)\n"
     ]
    }
   ],
   "source": [
    "print(rng_state)"
   ]
  },
  {
   "cell_type": "markdown",
   "metadata": {
    "id": "aJIxHVXCiM6m"
   },
   "source": [
    "每次产生一个新的随机数，状态都会自动更新:"
   ]
  },
  {
   "cell_type": "code",
   "execution_count": 31,
   "metadata": {
    "id": "GAHaDCYafpAF"
   },
   "outputs": [],
   "source": [
    "_ = np.random.uniform()\n",
    "rng_state = np.random.get_state()\n",
    "#print(rng_state) \n",
    "# --> ('MT19937', array([2443250962, 1093594115, 1878467924,\n",
    "#       ..., 2648828502, 1678096082], dtype=uint32), 2, 0, 0.0)\n",
    "\n",
    "# Let's exhaust the entropy in this PRNG statevector\n",
    "for i in range(311):\n",
    "  _ = np.random.uniform()\n",
    "rng_state = np.random.get_state()\n",
    "#print(rng_state) \n",
    "# --> ('MT19937', array([2443250962, 1093594115, 1878467924,\n",
    "#       ..., 2648828502, 1678096082], dtype=uint32), 624, 0, 0.0)\n",
    "\n",
    "# Next call iterates the RNG state for a new batch of fake \"entropy\".\n",
    "_ = np.random.uniform()\n",
    "rng_state = np.random.get_state()\n",
    "# print(rng_state) \n",
    "# --> ('MT19937', array([1499117434, 2949980591, 2242547484, \n",
    "#      4162027047, 3277342478], dtype=uint32), 2, 0, 0.0)"
   ]
  },
  {
   "cell_type": "markdown",
   "metadata": {
    "id": "N_mWnleNogps"
   },
   "source": [
    "随机数状态在numpy内部自动更新，在多线程、多进程甚至跨设备场景中，很那去推测出何时进行了状态更新。对用户来说就是一个迷。\n",
    "\n",
    "Mersenne Twister PRNG也有其他的问题，比如状态向量太大，足足有2.5kb，带来[initialization issues](https://dl.acm.org/citation.cfm?id=1276928)。它也[没有通过](http://www.pcg-random.org/pdf/toms-oneill-pcg-family-v1.02.pdf) 现代的BigCrush测试，通常很慢。"
   ]
  },
  {
   "cell_type": "markdown",
   "metadata": {
    "id": "Uvq7nV-j4vKK"
   },
   "source": [
    "### JAX PRNG"
   ]
  },
  {
   "cell_type": "markdown",
   "metadata": {
    "id": "COjzGBpO4tzL"
   },
   "source": [
    "JAX则使用了一种显式的PRNG方法，随机数状态不会隐式更新。一切尽在用户掌控，JAX使用的为随机数生成算法是[Threefry counter-based PRNG](https://github.com/google/jax/blob/main/docs/design_notes/prng.md) ，它是可以**分割的（splittable）**。也就是说，我们可以对PRNG状态进行 __fork__ 来生成新的PRNG。\n",
    "\n",
    "随机数状态用两个unsigned-int32s来描述，我们称这个只有两个元素的向量为**key**:"
   ]
  },
  {
   "cell_type": "code",
   "execution_count": 33,
   "metadata": {
    "colab": {
     "base_uri": "https://localhost:8080/"
    },
    "id": "yPHE7KTWgAWs",
    "outputId": "ae8af0ee-f19e-474e-81b6-45e894eb2fc3"
   },
   "outputs": [
    {
     "data": {
      "text/plain": [
       "DeviceArray([0, 0], dtype=uint32)"
      ]
     },
     "execution_count": 33,
     "metadata": {},
     "output_type": "execute_result"
    }
   ],
   "source": [
    "from jax import random\n",
    "key = random.PRNGKey(0)\n",
    "key"
   ]
  },
  {
   "cell_type": "markdown",
   "metadata": {
    "id": "XjYyWYNfq0hW"
   },
   "source": [
    "同样的，JAX的随机数函数需要用到PRNG状态来生成随机数，但是随机数函数不会去修改随机数状态！随机数状态只有用户可以手动更新！\n",
    "\n",
    "如果用户一直不更新随机数状态，那么随机数就不随机了：:"
   ]
  },
  {
   "cell_type": "code",
   "execution_count": 34,
   "metadata": {
    "colab": {
     "base_uri": "https://localhost:8080/"
    },
    "id": "7zUdQMynoE5e",
    "outputId": "23a86b72-dfb9-410a-8e68-22b48dc10805"
   },
   "outputs": [
    {
     "name": "stdout",
     "output_type": "stream",
     "text": [
      "[-0.20584236]\n",
      "[0 0]\n",
      "[-0.20584236]\n",
      "[0 0]\n"
     ]
    }
   ],
   "source": [
    "print(random.normal(key, shape=(1,)))\n",
    "print(key)\n",
    "# No no no!\n",
    "print(random.normal(key, shape=(1,)))\n",
    "print(key)"
   ]
  },
  {
   "cell_type": "markdown",
   "metadata": {
    "id": "hQN9van8rJgd"
   },
   "source": [
    "怎么更新随机数状态呢？使用 __split__ 来得到一个新的 __subkeys__ ，传给随机数生成函数:"
   ]
  },
  {
   "cell_type": "code",
   "execution_count": 35,
   "metadata": {
    "colab": {
     "base_uri": "https://localhost:8080/"
    },
    "id": "ASj0_rSzqgGh",
    "outputId": "2f13f249-85d1-47bb-d503-823eca6961aa"
   },
   "outputs": [
    {
     "name": "stdout",
     "output_type": "stream",
     "text": [
      "old key [0 0]\n",
      "    \\---SPLIT --> new key    [4146024105  967050713]\n",
      "             \\--> new subkey [2718843009 1272950319] --> normal [-1.2515285]\n"
     ]
    }
   ],
   "source": [
    "print(\"old key\", key)\n",
    "key, subkey = random.split(key)\n",
    "normal_pseudorandom = random.normal(subkey, shape=(1,))\n",
    "print(\"    \\---SPLIT --> new key   \", key)\n",
    "print(\"             \\--> new subkey\", subkey, \"--> normal\", normal_pseudorandom)"
   ]
  },
  {
   "cell_type": "markdown",
   "metadata": {
    "id": "tqtFVE4MthO3"
   },
   "source": [
    "刚才split得到的key继续作为下一次split的传参，来产生新的key和subkey:"
   ]
  },
  {
   "cell_type": "code",
   "execution_count": 36,
   "metadata": {
    "colab": {
     "base_uri": "https://localhost:8080/"
    },
    "id": "jbC34XLor2Ek",
    "outputId": "4059a2e2-0205-40bc-ad55-17709d538871"
   },
   "outputs": [
    {
     "name": "stdout",
     "output_type": "stream",
     "text": [
      "old key [4146024105  967050713]\n",
      "    \\---SPLIT --> new key    [2384771982 3928867769]\n",
      "             \\--> new subkey [1278412471 2182328957] --> normal [-0.5866531]\n"
     ]
    }
   ],
   "source": [
    "print(\"old key\", key)\n",
    "key, subkey = random.split(key)\n",
    "normal_pseudorandom = random.normal(subkey, shape=(1,))\n",
    "print(\"    \\---SPLIT --> new key   \", key)\n",
    "print(\"             \\--> new subkey\", subkey, \"--> normal\", normal_pseudorandom)"
   ]
  },
  {
   "cell_type": "markdown",
   "metadata": {
    "id": "0KLYUluz3lN3"
   },
   "source": [
    "`split`可以产生多个subkey:"
   ]
  },
  {
   "cell_type": "code",
   "execution_count": 37,
   "metadata": {
    "colab": {
     "base_uri": "https://localhost:8080/"
    },
    "id": "lEi08PJ4tfkX",
    "outputId": "1f280560-155d-4c04-98e8-c41d72ee5b01"
   },
   "outputs": [
    {
     "name": "stdout",
     "output_type": "stream",
     "text": [
      "[-0.3753332]\n",
      "[0.9864523]\n",
      "[0.14553195]\n"
     ]
    }
   ],
   "source": [
    "key, *subkeys = random.split(key, 4)\n",
    "for subkey in subkeys:\n",
    "  print(random.normal(subkey, shape=(1,)))"
   ]
  },
  {
   "cell_type": "markdown",
   "metadata": {
    "id": "rg4CpMZ8c3ri"
   },
   "source": [
    "## 🔪 控制流（Control Flow）"
   ]
  },
  {
   "cell_type": "markdown",
   "metadata": {
    "id": "izLTvT24dAq0"
   },
   "source": [
    "### ✔ python control_flow + autodiff ✔\n",
    "\n",
    "如果你的Python函数中包含控制流（if-else，for loop），使用 `grad` 没问题。"
   ]
  },
  {
   "cell_type": "code",
   "execution_count": 39,
   "metadata": {
    "colab": {
     "base_uri": "https://localhost:8080/"
    },
    "id": "aAx0T3F8lLtu",
    "outputId": "383b7bfa-1634-4d23-8497-49cb9452ca52"
   },
   "outputs": [
    {
     "name": "stdout",
     "output_type": "stream",
     "text": [
      "12.0\n",
      "-4.0\n"
     ]
    }
   ],
   "source": [
    "def f(x):\n",
    "  if x < 3:\n",
    "    return 3. * x ** 2\n",
    "  else:\n",
    "    return -4 * x\n",
    "\n",
    "print(grad(f)(2.))  # ok!\n",
    "print(grad(f)(4.))  # ok!"
   ]
  },
  {
   "cell_type": "markdown",
   "metadata": {
    "id": "hIfPT7WMmZ2H"
   },
   "source": [
    "### python control flow + JIT\n",
    "\n",
    "但是如果Python函数中有控制流，你想用 `jit` ，问题就有点复杂了。\n",
    "\n",
    "下面的例子可以运行:"
   ]
  },
  {
   "cell_type": "code",
   "execution_count": 40,
   "metadata": {
    "colab": {
     "base_uri": "https://localhost:8080/"
    },
    "id": "OZ_BJX0CplNC",
    "outputId": "60c902a2-eba1-49d7-c8c8-2f68616d660c"
   },
   "outputs": [
    {
     "name": "stdout",
     "output_type": "stream",
     "text": [
      "24\n"
     ]
    }
   ],
   "source": [
    "@jit\n",
    "def f(x):\n",
    "  for i in range(3):\n",
    "    x = 2 * x\n",
    "  return x\n",
    "\n",
    "print(f(3))"
   ]
  },
  {
   "cell_type": "markdown",
   "metadata": {
    "id": "22RzeJ4QqAuX"
   },
   "source": [
    "这个例子也可以:"
   ]
  },
  {
   "cell_type": "code",
   "execution_count": 41,
   "metadata": {
    "colab": {
     "base_uri": "https://localhost:8080/"
    },
    "id": "pinVnmRWp6w6",
    "outputId": "25e06cf2-474f-4782-af7c-4f5514b64422"
   },
   "outputs": [
    {
     "name": "stdout",
     "output_type": "stream",
     "text": [
      "6.0\n"
     ]
    }
   ],
   "source": [
    "@jit\n",
    "def g(x):\n",
    "  y = 0.\n",
    "  for i in range(x.shape[0]):\n",
    "    y = y + x[i]\n",
    "  return y\n",
    "\n",
    "print(g(jnp.array([1., 2., 3.])))"
   ]
  },
  {
   "cell_type": "markdown",
   "metadata": {
    "id": "TStltU2dqf8A"
   },
   "source": [
    "但是下面的例子，就不行了：\n",
    "\n",
    "这是个纯函数啊？为啥不行，"
   ]
  },
  {
   "cell_type": "code",
   "execution_count": 42,
   "metadata": {
    "colab": {
     "base_uri": "https://localhost:8080/"
    },
    "id": "9z38AIKclRNM",
    "outputId": "38dd2075-92fc-4b81-fee0-b9dff8da1fac"
   },
   "outputs": [
    {
     "name": "stdout",
     "output_type": "stream",
     "text": [
      "Exception Abstract tracer value encountered where concrete value is expected: Traced<ShapedArray(bool[], weak_type=True)>with<DynamicJaxprTrace(level=0/1)>\n",
      "The problem arose with the `bool` function. \n",
      "While tracing the function f at /tmp/ipykernel_358787/2259617891.py:1 for jit, this concrete value was not available in Python because it depends on the value of the argument 'x'.\n",
      "\n",
      "See https://jax.readthedocs.io/en/latest/errors.html#jax.errors.ConcretizationTypeError\n"
     ]
    }
   ],
   "source": [
    "@jit\n",
    "def f(x):\n",
    "  if x < 3:\n",
    "    return 3. * x ** 2\n",
    "  else:\n",
    "    return -4 * x\n",
    "\n",
    "# This will fail!\n",
    "try:\n",
    "  f(2)\n",
    "except Exception as e:\n",
    "  print(\"Exception {}\".format(e))"
   ]
  },
  {
   "cell_type": "markdown",
   "metadata": {
    "id": "pIbr4TVPqtDN"
   },
   "source": [
    "__What gives!?__\n",
    "\n",
    "当我们用 `jit`编译某个函数式，我们希望编译后的函数可以适用于很多传参，这样编译后的代码就可以缓存起来，当调用函数时不需要再次编译而是直接执行第一次JIT编译得到的代码。\n",
    "\n",
    "举个例子，某个函数的传参是`jnp.array([1., 2., 3.], jnp.float32)`，我们希望 `@jit` 后，这个函数还可以用于 `jnp.array([4., 5., 6.], jnp.float32)` 。\n",
    "\n",
    "JAX实际上是trace的抽象值（abstract values），这样才能泛化到很多同shape同dtype的变量，JAX有[多级抽象](https://github.com/google/jax/blob/main/jax/_src/abstract_arrays.py)，不同的转换（transformations）可以使用不同的抽象级别。\n",
    "\n",
    "默认情况下， `jit` 使用的是 `ShapedArray` 抽象级别，抽象值代表了具有相同shape和dtype的一类数组，比如，抽象值是 `ShapedArray((3,), jnp.float32)`，表示这个函数可以用于shape是(3,) 类型是float32的所有数组。\n",
    "\n",
    "但是，如果抽象值是 `ShapedArray((), jnp.float32)` ，当碰到 `if x < 3`语句，表达式 `x < 3` 结果对应的抽象值是 `ShapedArray((), jnp.bool_)` ，代表的是 `{True, False}`。When Python attempts to coerce that to a concrete `True` or `False`, we get an error: we don't know which branch to take, and can't continue tracing! The tradeoff is that with higher levels of abstraction we gain a more general view of the Python code (and thus save on re-compilations), but we require more constraints on the Python code to complete the trace.\n",
    "\n",
    "凡事都有两面性，如果想从更高级别进行抽象，使得JIT编译的函数适用范围更广，那么对Python函数的约束也就越大，不是随随便编一个Python函数就可以的。\n",
    "\n",
    "JAX允许用户自己进行权衡，比如上面的f(x)，如果你非要进行JIT编译，可以把x设置为static，来trace具体的值，但是要注意此时由于trace的具体的值，只要改变x的值，调用JIT编译后的f(x)，还需要重新编译一遍:"
   ]
  },
  {
   "cell_type": "code",
   "execution_count": 56,
   "metadata": {
    "colab": {
     "base_uri": "https://localhost:8080/"
    },
    "id": "-Tzp0H7Bt1Sn",
    "outputId": "f7f664cb-2cd0-4fd7-c685-4ec6ba1c4b7a"
   },
   "outputs": [
    {
     "name": "stdout",
     "output_type": "stream",
     "text": [
      "when you call f(x)\n",
      "12.0\n"
     ]
    }
   ],
   "source": [
    "def f(x):\n",
    "  print(\"when you call f(x)\")\n",
    "  if x < 3:\n",
    "    return 3. * x ** 2\n",
    "  else:\n",
    "    return -4 * x\n",
    "\n",
    "f = jit(f, static_argnums=(0,))\n",
    "\n",
    "print(f(2.))"
   ]
  },
  {
   "cell_type": "code",
   "execution_count": 57,
   "metadata": {},
   "outputs": [
    {
     "name": "stdout",
     "output_type": "stream",
     "text": [
      "when you call f(x)\n"
     ]
    },
    {
     "data": {
      "text/plain": [
       "DeviceArray(-12., dtype=float32, weak_type=True)"
      ]
     },
     "execution_count": 57,
     "metadata": {},
     "output_type": "execute_result"
    }
   ],
   "source": [
    "f(3.)  # 由于传入了3.而不是2.，函数重新编译了"
   ]
  },
  {
   "cell_type": "code",
   "execution_count": 58,
   "metadata": {},
   "outputs": [
    {
     "data": {
      "text/plain": [
       "DeviceArray(-12., dtype=float32, weak_type=True)"
      ]
     },
     "execution_count": 58,
     "metadata": {},
     "output_type": "execute_result"
    }
   ],
   "source": [
    "f(3.)  # 函数不需要重新编译"
   ]
  },
  {
   "cell_type": "code",
   "execution_count": 59,
   "metadata": {},
   "outputs": [
    {
     "name": "stdout",
     "output_type": "stream",
     "text": [
      "when you call f(x)\n"
     ]
    },
    {
     "data": {
      "text/plain": [
       "DeviceArray(-16., dtype=float32, weak_type=True)"
      ]
     },
     "execution_count": 59,
     "metadata": {},
     "output_type": "execute_result"
    }
   ],
   "source": [
    "f(4.)  # 由于传入了4.而不是3.，函数重新编译饿了"
   ]
  },
  {
   "cell_type": "code",
   "execution_count": 60,
   "metadata": {},
   "outputs": [
    {
     "data": {
      "text/plain": [
       "DeviceArray(-12., dtype=float32, weak_type=True)"
      ]
     },
     "execution_count": 60,
     "metadata": {},
     "output_type": "execute_result"
    }
   ],
   "source": [
    "f(3.)  # 没有重新编译，已经缓存过了"
   ]
  },
  {
   "cell_type": "markdown",
   "metadata": {
    "id": "MHm1hIQAvBVs"
   },
   "source": [
    "再看另一个例子，这次包含了for循环，JIT编译后的函数只支持n=2，只要改变n的值，函数就要重新编译："
   ]
  },
  {
   "cell_type": "code",
   "execution_count": 61,
   "metadata": {
    "colab": {
     "base_uri": "https://localhost:8080/"
    },
    "id": "iwY86_JKvD6b",
    "outputId": "48f9b51f-bd32-466f-eac1-cd23444ce937"
   },
   "outputs": [
    {
     "data": {
      "text/plain": [
       "DeviceArray(5., dtype=float32)"
      ]
     },
     "execution_count": 61,
     "metadata": {},
     "output_type": "execute_result"
    }
   ],
   "source": [
    "def f(x, n):\n",
    "  y = 0.\n",
    "  for i in range(n):\n",
    "    y = y + x[i]\n",
    "  return y\n",
    "\n",
    "f = jit(f, static_argnums=(1,))\n",
    "\n",
    "f(jnp.array([2., 3., 4.]), 2)"
   ]
  },
  {
   "cell_type": "markdown",
   "metadata": {
    "id": "wWdg8LTYwCW3"
   },
   "source": [
    "️⚠️ **functions with argument-__value__ dependent shapes**\n",
    "\n",
    "These control-flow issues also come up in a more subtle way: numerical functions we want to __jit__ can't specialize the shapes of internal arrays on argument _values_ (specializing on argument __shapes__ is ok).  As a trivial example, let's make a function whose output happens to depend on the input variable `length`."
   ]
  },
  {
   "cell_type": "code",
   "execution_count": 33,
   "metadata": {
    "colab": {
     "base_uri": "https://localhost:8080/"
    },
    "id": "Tqe9uLmUI_Gv",
    "outputId": "989be121-dfce-4bb3-c78e-a10829c5f883"
   },
   "outputs": [
    {
     "name": "stdout",
     "output_type": "stream",
     "text": [
      "[4. 4. 4. 4. 4.]\n",
      "Exception Shapes must be 1D sequences of concrete values of integer type, got (Traced<ShapedArray(int32[], weak_type=True)>with<DynamicJaxprTrace(level=0/1)>,).\n",
      "If using `jit`, try using `static_argnums` or applying `jit` to smaller subfunctions.\n",
      "[4. 4. 4. 4. 4. 4. 4. 4. 4. 4.]\n",
      "[4. 4. 4. 4. 4.]\n"
     ]
    }
   ],
   "source": [
    "def example_fun(length, val):\n",
    "  return jnp.ones((length,)) * val\n",
    "# un-jit'd works fine\n",
    "print(example_fun(5, 4))\n",
    "\n",
    "bad_example_jit = jit(example_fun)\n",
    "# this will fail:\n",
    "try:\n",
    "  print(bad_example_jit(10, 4))\n",
    "except Exception as e:\n",
    "  print(\"Exception {}\".format(e))\n",
    "# static_argnums tells JAX to recompile on changes at these argument positions:\n",
    "good_example_jit = jit(example_fun, static_argnums=(0,))\n",
    "# first compile\n",
    "print(good_example_jit(10, 4))\n",
    "# recompiles\n",
    "print(good_example_jit(5, 4))"
   ]
  },
  {
   "cell_type": "markdown",
   "metadata": {
    "id": "MStx_r2oKxpp"
   },
   "source": [
    "上面的例子，在此可以看到，如果`length`不会变，使用`static_argnums` 没问题，如果`length`变来变去，那么每次都要重新编译函数！\n",
    "\n",
    "不要在要进行jit编译的函数内部使用print语句，打印不出值的。"
   ]
  },
  {
   "cell_type": "code",
   "execution_count": 63,
   "metadata": {
    "colab": {
     "base_uri": "https://localhost:8080/"
    },
    "id": "m2ABpRd8K094",
    "outputId": "4f7ebe17-ade4-4e18-bd8c-4b24087c33c3"
   },
   "outputs": [
    {
     "name": "stdout",
     "output_type": "stream",
     "text": [
      "Traced<ShapedArray(int32[], weak_type=True)>with<DynamicJaxprTrace(level=0/1)>\n",
      "Traced<ShapedArray(int32[], weak_type=True)>with<DynamicJaxprTrace(level=0/1)>\n"
     ]
    },
    {
     "data": {
      "text/plain": [
       "DeviceArray(4, dtype=int32, weak_type=True)"
      ]
     },
     "execution_count": 63,
     "metadata": {},
     "output_type": "execute_result"
    }
   ],
   "source": [
    "@jit\n",
    "def f(x):\n",
    "  print(x)\n",
    "  y = 2 * x\n",
    "  print(y)\n",
    "  return y\n",
    "f(2)"
   ]
  },
  {
   "cell_type": "markdown",
   "metadata": {
    "id": "uCDcWG4MnVn-"
   },
   "source": [
    "### 控制流原语（control flow primitives）\n",
    "\n",
    "如果我们既想要在函数内部使用控制流语句，又想避免函数重编译，那么就不能用Python中的控制流语句了，要使用`lax`中的控制流原语:\n",
    "\n",
    " - `lax.cond`  _differentiable_\n",
    " - `lax.while_loop` __fwd-mode-differentiable__\n",
    " - `lax.fori_loop` __fwd-mode-differentiable__ in general; __fwd and rev-mode differentiable__ if endpoints are static.\n",
    " - `lax.scan` _differentiable_"
   ]
  },
  {
   "cell_type": "markdown",
   "metadata": {
    "id": "Sd9xrLMXeK3A"
   },
   "source": [
    "#### cond\n",
    "\n",
    "语法含义等价于下面这段Python代码:\n",
    "\n",
    "```python\n",
    "def cond(pred, true_fun, false_fun, operand):\n",
    "  if pred:\n",
    "    return true_fun(operand)\n",
    "  else:\n",
    "    return false_fun(operand)\n",
    "```"
   ]
  },
  {
   "cell_type": "code",
   "execution_count": 64,
   "metadata": {
    "colab": {
     "base_uri": "https://localhost:8080/"
    },
    "id": "SGxz9JOWeiyH",
    "outputId": "942a8d0e-5ff6-4702-c499-b3941f529ca3"
   },
   "outputs": [
    {
     "data": {
      "text/plain": [
       "DeviceArray([-1.], dtype=float32)"
      ]
     },
     "execution_count": 64,
     "metadata": {},
     "output_type": "execute_result"
    }
   ],
   "source": [
    "from jax import lax\n",
    "\n",
    "operand = jnp.array([0.])\n",
    "lax.cond(True, lambda x: x+1, lambda x: x-1, operand)\n",
    "# --> array([1.], dtype=float32)\n",
    "lax.cond(False, lambda x: x+1, lambda x: x-1, operand)\n",
    "# --> array([-1.], dtype=float32)"
   ]
  },
  {
   "cell_type": "markdown",
   "metadata": {
    "id": "xkOFAw24eOMg"
   },
   "source": [
    "#### while_loop\n",
    "\n",
    "语法含义等价于下面这段Python代码:\n",
    "```\n",
    "def while_loop(cond_fun, body_fun, init_val):\n",
    "  val = init_val\n",
    "  while cond_fun(val):\n",
    "    val = body_fun(val)\n",
    "  return val\n",
    "```"
   ]
  },
  {
   "cell_type": "code",
   "execution_count": 65,
   "metadata": {
    "colab": {
     "base_uri": "https://localhost:8080/"
    },
    "id": "jM-D39a-c436",
    "outputId": "552fe42f-4d32-4e25-c8c2-b951160a3f4e"
   },
   "outputs": [
    {
     "data": {
      "text/plain": [
       "DeviceArray(10, dtype=int32, weak_type=True)"
      ]
     },
     "execution_count": 65,
     "metadata": {},
     "output_type": "execute_result"
    }
   ],
   "source": [
    "init_val = 0\n",
    "cond_fun = lambda x: x<10\n",
    "body_fun = lambda x: x+1\n",
    "lax.while_loop(cond_fun, body_fun, init_val)\n",
    "# --> array(10, dtype=int32)"
   ]
  },
  {
   "cell_type": "markdown",
   "metadata": {
    "id": "apo3n3HAeQY_"
   },
   "source": [
    "#### fori_loop\n",
    "语法含义等价于下面这段Python代码:\n",
    "\n",
    "```\n",
    "def fori_loop(start, stop, body_fun, init_val):\n",
    "  val = init_val\n",
    "  for i in range(start, stop):\n",
    "    val = body_fun(i, val)\n",
    "  return val\n",
    "```"
   ]
  },
  {
   "cell_type": "code",
   "execution_count": 37,
   "metadata": {
    "colab": {
     "base_uri": "https://localhost:8080/"
    },
    "id": "dt3tUpOmeR8u",
    "outputId": "7819ca7c-1433-4d85-b542-f6159b0e8380"
   },
   "outputs": [
    {
     "data": {
      "text/plain": [
       "DeviceArray(45, dtype=int32, weak_type=True)"
      ]
     },
     "execution_count": 37,
     "metadata": {},
     "output_type": "execute_result"
    }
   ],
   "source": [
    "init_val = 0\n",
    "start = 0\n",
    "stop = 10\n",
    "body_fun = lambda i,x: x+i\n",
    "lax.fori_loop(start, stop, body_fun, init_val)\n",
    "# --> array(45, dtype=int32)"
   ]
  },
  {
   "cell_type": "markdown",
   "metadata": {
    "id": "SipXS5qiqk8e"
   },
   "source": [
    "#### Summary\n",
    "\n",
    "$$\n",
    "\\begin{array} {r|rr} \n",
    "\\hline \\\n",
    "\\textrm{construct} \n",
    "& \\textrm{jit} \n",
    "& \\textrm{grad} \\\\\n",
    "\\hline \\\n",
    "\\textrm{if} & ❌ & ✔ \\\\\n",
    "\\textrm{for} & ✔* & ✔\\\\\n",
    "\\textrm{while} & ✔* & ✔\\\\\n",
    "\\textrm{lax.cond} & ✔ & ✔\\\\\n",
    "\\textrm{lax.while_loop} & ✔ & \\textrm{fwd}\\\\\n",
    "\\textrm{lax.fori_loop} & ✔ & \\textrm{fwd}\\\\\n",
    "\\textrm{lax.scan} & ✔ & ✔\\\\\n",
    "\\hline\n",
    "\\end{array}\n",
    "$$\n",
    "\n",
    "<center>\n",
    "\n",
    "$\\ast$ = argument-<b>value</b>-independent loop condition - unrolls the loop\n",
    "\n",
    "</center>"
   ]
  },
  {
   "cell_type": "markdown",
   "metadata": {
    "id": "DKTMw6tRZyK2"
   },
   "source": [
    "## 🔪 NaNs"
   ]
  },
  {
   "cell_type": "markdown",
   "metadata": {
    "id": "ncS0NI4jZrwy"
   },
   "source": [
    "### Debugging NaNs\n",
    "\n",
    "如果你要trace哪里发生了 NaNs，可以开启 NaN-checker:\n",
    "\n",
    "* setting the `JAX_DEBUG_NANS=True` environment variable;\n",
    "\n",
    "* adding `from jax.config import config` and `config.update(\"jax_debug_nans\", True)` near the top of your main file;\n",
    "\n",
    "* adding `from jax.config import config` and `config.parse_flags_with_absl()` to your main file, then set the option using a command-line flag like `--jax_debug_nans=True`;\n",
    "\n",
    "This will cause computations to error-out immediately on production of a NaN. Switching this option on adds a nan check to every floating point type value produced by XLA. That means values are pulled back to the host and checked as ndarrays for every primitive operation not under an `@jit`. For code under an `@jit`, the output of every `@jit` function is checked and if a nan is present it will re-run the function in de-optimized op-by-op mode, effectively removing one level of `@jit` at a time.\n",
    "\n",
    "There could be tricky situations that arise, like nans that only occur under a `@jit` but don't get produced in de-optimized mode. In that case you'll see a warning message print out but your code will continue to execute.\n",
    "\n",
    "If the nans are being produced in the backward pass of a gradient evaluation, when an exception is raised several frames up in the stack trace you will be in the backward_pass function, which is essentially a simple jaxpr interpreter that walks the sequence of primitive operations in reverse. In the example below, we started an ipython repl with the command line `env JAX_DEBUG_NANS=True ipython`, then ran this:"
   ]
  },
  {
   "cell_type": "markdown",
   "metadata": {
    "id": "p6ZtDHPbBa_W"
   },
   "source": [
    "```\n",
    "In [1]: import jax.numpy as jnp\n",
    "\n",
    "In [2]: jnp.divide(0., 0.)\n",
    "---------------------------------------------------------------------------\n",
    "FloatingPointError                        Traceback (most recent call last)\n",
    "<ipython-input-2-f2e2c413b437> in <module>()\n",
    "----> 1 jnp.divide(0., 0.)\n",
    "\n",
    ".../jax/jax/numpy/lax_numpy.pyc in divide(x1, x2)\n",
    "    343     return floor_divide(x1, x2)\n",
    "    344   else:\n",
    "--> 345     return true_divide(x1, x2)\n",
    "    346\n",
    "    347\n",
    "\n",
    ".../jax/jax/numpy/lax_numpy.pyc in true_divide(x1, x2)\n",
    "    332   x1, x2 = _promote_shapes(x1, x2)\n",
    "    333   return lax.div(lax.convert_element_type(x1, result_dtype),\n",
    "--> 334                  lax.convert_element_type(x2, result_dtype))\n",
    "    335\n",
    "    336\n",
    "\n",
    ".../jax/jax/lax.pyc in div(x, y)\n",
    "    244 def div(x, y):\n",
    "    245   r\"\"\"Elementwise division: :math:`x \\over y`.\"\"\"\n",
    "--> 246   return div_p.bind(x, y)\n",
    "    247\n",
    "    248 def rem(x, y):\n",
    "\n",
    "... stack trace ...\n",
    "\n",
    ".../jax/jax/interpreters/xla.pyc in handle_result(device_buffer)\n",
    "    103         py_val = device_buffer.to_py()\n",
    "    104         if np.any(np.isnan(py_val)):\n",
    "--> 105           raise FloatingPointError(\"invalid value\")\n",
    "    106         else:\n",
    "    107           return DeviceArray(device_buffer, *result_shape)\n",
    "\n",
    "FloatingPointError: invalid value\n",
    "```"
   ]
  },
  {
   "cell_type": "markdown",
   "metadata": {
    "id": "_NCnVt_GBa_W"
   },
   "source": [
    "The nan generated was caught. By running `%debug`, we can get a post-mortem debugger. This also works with functions under `@jit`, as the example below shows."
   ]
  },
  {
   "cell_type": "markdown",
   "metadata": {
    "id": "pf8RF6eiBa_W"
   },
   "source": [
    "```\n",
    "In [4]: from jax import jit\n",
    "\n",
    "In [5]: @jit\n",
    "   ...: def f(x, y):\n",
    "   ...:     a = x * y\n",
    "   ...:     b = (x + y) / (x - y)\n",
    "   ...:     c = a + 2\n",
    "   ...:     return a + b * c\n",
    "   ...:\n",
    "\n",
    "In [6]: x = jnp.array([2., 0.])\n",
    "\n",
    "In [7]: y = jnp.array([3., 0.])\n",
    "\n",
    "In [8]: f(x, y)\n",
    "Invalid value encountered in the output of a jit function. Calling the de-optimized version.\n",
    "---------------------------------------------------------------------------\n",
    "FloatingPointError                        Traceback (most recent call last)\n",
    "<ipython-input-8-811b7ddb3300> in <module>()\n",
    "----> 1 f(x, y)\n",
    "\n",
    " ... stack trace ...\n",
    "\n",
    "<ipython-input-5-619b39acbaac> in f(x, y)\n",
    "      2 def f(x, y):\n",
    "      3     a = x * y\n",
    "----> 4     b = (x + y) / (x - y)\n",
    "      5     c = a + 2\n",
    "      6     return a + b * c\n",
    "\n",
    ".../jax/jax/numpy/lax_numpy.pyc in divide(x1, x2)\n",
    "    343     return floor_divide(x1, x2)\n",
    "    344   else:\n",
    "--> 345     return true_divide(x1, x2)\n",
    "    346\n",
    "    347\n",
    "\n",
    ".../jax/jax/numpy/lax_numpy.pyc in true_divide(x1, x2)\n",
    "    332   x1, x2 = _promote_shapes(x1, x2)\n",
    "    333   return lax.div(lax.convert_element_type(x1, result_dtype),\n",
    "--> 334                  lax.convert_element_type(x2, result_dtype))\n",
    "    335\n",
    "    336\n",
    "\n",
    ".../jax/jax/lax.pyc in div(x, y)\n",
    "    244 def div(x, y):\n",
    "    245   r\"\"\"Elementwise division: :math:`x \\over y`.\"\"\"\n",
    "--> 246   return div_p.bind(x, y)\n",
    "    247\n",
    "    248 def rem(x, y):\n",
    "\n",
    " ... stack trace ...\n",
    "```"
   ]
  },
  {
   "cell_type": "markdown",
   "metadata": {
    "id": "6ur2yArDBa_W"
   },
   "source": [
    "When this code sees a nan in the output of an `@jit` function, it calls into the de-optimized code, so we still get a clear stack trace. And we can run a post-mortem debugger with `%debug` to inspect all the values to figure out the error.\n",
    "\n",
    "⚠️ You shouldn't have the NaN-checker on if you're not debugging, as it can introduce lots of device-host round-trips and performance regressions!\n",
    "\n",
    "⚠️ The NaN-checker doesn't work with `pmap`. To debug nans in `pmap` code, one thing to try is replacing `pmap` with `vmap`."
   ]
  },
  {
   "cell_type": "markdown",
   "metadata": {
    "id": "YTktlwTTMgFl"
   },
   "source": [
    "## 🔪 双精度 (64bit) \n",
    "\n",
    "当前，JAX默认使用单精度浮点数，在大多数机器学习场景中没问题，但是要注意，下面生成的x还是单精度："
   ]
  },
  {
   "cell_type": "code",
   "execution_count": 66,
   "metadata": {
    "colab": {
     "base_uri": "https://localhost:8080/"
    },
    "id": "CNNGtzM3NDkO",
    "outputId": "b422bb23-a784-44dc-f8c9-57f3b6c861b8"
   },
   "outputs": [
    {
     "data": {
      "text/plain": [
       "dtype('float32')"
      ]
     },
     "execution_count": 66,
     "metadata": {},
     "output_type": "execute_result"
    }
   ],
   "source": [
    "x = random.uniform(random.PRNGKey(0), (1000,), dtype=jnp.float64)\n",
    "x.dtype"
   ]
  },
  {
   "cell_type": "markdown",
   "metadata": {
    "id": "VcvqzobxNPbd"
   },
   "source": [
    "如果你非要使用双精度浮点数，可以这么做:\n",
    "\n",
    "1. 设置一个环境变量 `JAX_ENABLE_X64=True`.\n",
    "\n",
    "2. You can manually set the `jax_enable_x64` configuration flag at startup:\n",
    "\n",
    "   ```python\n",
    "   # again, this only works on startup!\n",
    "   from jax.config import config\n",
    "   config.update(\"jax_enable_x64\", True)\n",
    "   ```\n",
    "\n",
    "3. You can parse command-line flags with `absl.app.run(main)`\n",
    "\n",
    "   ```python\n",
    "   from jax.config import config\n",
    "   config.config_with_absl()\n",
    "   ```\n",
    "\n",
    "4. If you want JAX to run absl parsing for you, i.e. you don't want to do `absl.app.run(main)`, you can instead use\n",
    "\n",
    "   ```python\n",
    "   from jax.config import config\n",
    "   if __name__ == '__main__':\n",
    "     # calls config.config_with_absl() *and* runs absl parsing\n",
    "     config.parse_flags_with_absl()\n",
    "   ```\n",
    "\n",
    "Note that #2-#4 work for _any_ of JAX's configuration options.\n",
    "\n",
    "We can then confirm that `x64` mode is enabled:"
   ]
  },
  {
   "cell_type": "code",
   "execution_count": 67,
   "metadata": {
    "colab": {
     "base_uri": "https://localhost:8080/"
    },
    "id": "HqGbBa9Rr-2g",
    "outputId": "5aa72952-08cc-4569-9b51-a10311ae9e81"
   },
   "outputs": [
    {
     "data": {
      "text/plain": [
       "dtype('float32')"
      ]
     },
     "execution_count": 67,
     "metadata": {},
     "output_type": "execute_result"
    }
   ],
   "source": [
    "import jax.numpy as jnp\n",
    "from jax import random\n",
    "x = random.uniform(random.PRNGKey(0), (1000,), dtype=jnp.float64)\n",
    "x.dtype # --> dtype('float64')"
   ]
  },
  {
   "cell_type": "markdown",
   "metadata": {
    "id": "6Cks2_gKsXaW"
   },
   "source": [
    "### Caveats\n",
    "⚠️ XLA 所有后端都不支持64-bit的卷积操作!"
   ]
  },
  {
   "cell_type": "markdown",
   "metadata": {
    "id": "WAHjmL0E2XwO"
   },
   "source": [
    "## 🔪 Miscellaneous Divergences from NumPy\n",
    "\n",
    "While `jax.numpy` makes every attempt to replicate the behavior of numpy's API, there do exist corner cases where the behaviors differ.\n",
    "Many such cases are discussed in detail in the sections above; here we list several other known places where the APIs diverge.\n",
    "\n",
    "- For binary operations, JAX's type promotion rules differ somewhat from those used by NumPy. See [Type Promotion Semantics](https://jax.readthedocs.io/en/latest/type_promotion.html) for more details.\n",
    "- When performing unsafe type casts (i.e. casts in which the target dtype cannot represent the input value), JAX's behavior may be backend dependent, and in general may diverge from NumPy's behavior. Numpy allows control over the result in these scenarios via the `casting` argument (see [`np.ndarray.astype`](https://numpy.org/devdocs/reference/generated/numpy.ndarray.astype.html)); JAX does not provide any such configuration, instead directly inheriting the behavior of [XLA:ConvertElementType](https://www.tensorflow.org/xla/operation_semantics#convertelementtype).\n",
    "\n",
    "  Here is an example of an unsafe cast with differing results between NumPy and JAX:\n",
    "  ```python\n",
    "  >>> np.arange(254.0, 258.0).astype('uint8')                                                \n",
    "  array([254, 255,   0,   1], dtype=uint8)\n",
    "\n",
    "  >>> jnp.arange(254.0, 258.0).astype('uint8')                                               \n",
    "  DeviceArray([254, 255, 255, 255], dtype=uint8)\n",
    "  ```\n",
    "  This sort of mismatch would typically arise when casting extreme values from floating to integer types or vice versa.\n",
    "\n",
    "\n",
    "## Fin.\n",
    "\n",
    "If something's not covered here that has caused you weeping and gnashing of teeth, please let us know and we'll extend these introductory _advisos_!"
   ]
  }
 ],
 "metadata": {
  "accelerator": "GPU",
  "colab": {
   "collapsed_sections": [],
   "name": "Common Gotchas in JAX",
   "provenance": [],
   "toc_visible": true
  },
  "jupytext": {
   "formats": "ipynb,md:myst"
  },
  "kernelspec": {
   "display_name": "Python 3 (ipykernel)",
   "language": "python",
   "name": "python3"
  },
  "language_info": {
   "codemirror_mode": {
    "name": "ipython",
    "version": 3
   },
   "file_extension": ".py",
   "mimetype": "text/x-python",
   "name": "python",
   "nbconvert_exporter": "python",
   "pygments_lexer": "ipython3",
   "version": "3.8.10"
  }
 },
 "nbformat": 4,
 "nbformat_minor": 1
}
